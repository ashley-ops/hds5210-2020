{
 "cells": [
  {
   "cell_type": "markdown",
   "metadata": {
    "nbgrader": {
     "grade": false,
     "grade_id": "cell-fc1c39d0d6f8b82a",
     "locked": true,
     "schema_version": 1,
     "solution": false
    }
   },
   "source": [
    "# Descriptive Stats\n",
    "\n",
    "For the questions below, we're going to refer exclusively to an HHCAPS survey data set that is available in `/data/hhcaps.csv`.  Use whatever commands you want to calculate the information required to get to the answer.\n",
    "\n",
    "\n",
    "Put your solution as the last line right before the test cell, using the form shown below for computing the number of rows in a dataframe.\n",
    "\n",
    "```\n",
    "answer = my_df.shape[0]\n",
    "```\n",
    "\n",
    "The assertions will often give you what the final answer should be, but you won't receive any points unless you compute the answer using code.  For instance, if you just typed `answer = 132` for the numer of rows instead of `answer = my_df.shape[0]`, you would not receive credit.\n"
   ]
  },
  {
   "cell_type": "code",
   "execution_count": 119,
   "metadata": {
    "nbgrader": {
     "grade": false,
     "grade_id": "intro",
     "locked": true,
     "schema_version": 1,
     "solution": false
    }
   },
   "outputs": [],
   "source": [
    "%matplotlib inline\n",
    "import pandas as pd\n",
    "\n",
    "hhcaps = pd.read_csv('/data/hhcaps.csv')"
   ]
  },
  {
   "cell_type": "markdown",
   "metadata": {
    "nbgrader": {
     "grade": false,
     "grade_id": "q01-intro",
     "locked": true,
     "schema_version": 1,
     "solution": false
    }
   },
   "source": [
    "## #01 - \n",
    "\n",
    "How many columns does this file contain?"
   ]
  },
  {
   "cell_type": "code",
   "execution_count": 3,
   "metadata": {},
   "outputs": [
    {
     "data": {
      "text/plain": [
       "(12000, 39)"
      ]
     },
     "execution_count": 3,
     "metadata": {},
     "output_type": "execute_result"
    }
   ],
   "source": [
    "hhcaps.shape"
   ]
  },
  {
   "cell_type": "code",
   "execution_count": 6,
   "metadata": {
    "nbgrader": {
     "grade": false,
     "grade_id": "q01-solution",
     "locked": false,
     "schema_version": 1,
     "solution": true
    }
   },
   "outputs": [],
   "source": [
    "answer = hhcaps.shape[1]\n",
    "## Solution goes here"
   ]
  },
  {
   "cell_type": "code",
   "execution_count": 7,
   "metadata": {
    "nbgrader": {
     "grade": true,
     "grade_id": "q01-test",
     "locked": true,
     "points": 2,
     "schema_version": 1,
     "solution": false
    }
   },
   "outputs": [],
   "source": [
    "assert(type(answer) == int)\n",
    "assert(answer == 39)"
   ]
  },
  {
   "cell_type": "markdown",
   "metadata": {
    "nbgrader": {
     "grade": false,
     "grade_id": "q02-intro",
     "locked": true,
     "schema_version": 1,
     "solution": false
    }
   },
   "source": [
    "## #02 - \n",
    "\n",
    "How many different values for State are there in this file?"
   ]
  },
  {
   "cell_type": "code",
   "execution_count": 17,
   "metadata": {},
   "outputs": [
    {
     "data": {
      "text/plain": [
       "array(['AL', 'CO', 'AZ', 'FL', 'AK', 'GA', 'AR', 'HI', 'ID', 'CA', 'IL',\n",
       "       'KY', 'LA', 'ME', 'MD', 'NY', 'MA', 'MO', 'NJ', 'NM', 'NC', 'OH',\n",
       "       'PA', 'RI', 'SC', 'TX', 'CT', 'OK', 'VT', 'VA', 'DE', 'WA', 'DC',\n",
       "       'WV', 'WI', 'IN', 'IA', 'KS', 'MI', 'MN', 'MS', 'NE', 'MT', 'NV',\n",
       "       'NH', 'ND', 'OR', 'PR', 'SD', 'TN', 'UT', 'VI', 'WY', 'GU', 'MP'],\n",
       "      dtype=object)"
      ]
     },
     "execution_count": 17,
     "metadata": {},
     "output_type": "execute_result"
    }
   ],
   "source": [
    "hhcaps.State.unique()"
   ]
  },
  {
   "cell_type": "code",
   "execution_count": 12,
   "metadata": {},
   "outputs": [
    {
     "data": {
      "text/plain": [
       "55"
      ]
     },
     "execution_count": 12,
     "metadata": {},
     "output_type": "execute_result"
    }
   ],
   "source": [
    "hhcaps.State.nunique()"
   ]
  },
  {
   "cell_type": "code",
   "execution_count": 13,
   "metadata": {
    "nbgrader": {
     "grade": false,
     "grade_id": "q02-solution",
     "locked": false,
     "schema_version": 1,
     "solution": true
    }
   },
   "outputs": [],
   "source": [
    "answer = hhcaps.State.nunique()\n",
    "\n",
    "## Solution goes here"
   ]
  },
  {
   "cell_type": "code",
   "execution_count": 14,
   "metadata": {
    "nbgrader": {
     "grade": true,
     "grade_id": "q02-test",
     "locked": true,
     "points": 2,
     "schema_version": 1,
     "solution": false
    }
   },
   "outputs": [],
   "source": [
    "assert(type(answer) == int)\n",
    "assert(answer == 55)"
   ]
  },
  {
   "cell_type": "code",
   "execution_count": null,
   "metadata": {},
   "outputs": [],
   "source": []
  },
  {
   "cell_type": "markdown",
   "metadata": {
    "nbgrader": {
     "grade": false,
     "grade_id": "q03-intro",
     "locked": true,
     "schema_version": 1,
     "solution": false
    }
   },
   "source": [
    "## #03 - \n",
    "\n",
    "Which of those State values has the highest frequency of occurence?"
   ]
  },
  {
   "cell_type": "code",
   "execution_count": 24,
   "metadata": {},
   "outputs": [
    {
     "data": {
      "text/plain": [
       "TX    2518\n",
       "CA    1319\n",
       "FL    1069\n",
       "OH     781\n",
       "IL     735\n",
       "MI     597\n",
       "PA     425\n",
       "MA     261\n",
       "OK     256\n",
       "VA     244\n",
       "IN     229\n",
       "MN     197\n",
       "LA     195\n",
       "CO     187\n",
       "NC     174\n",
       "AR     172\n",
       "AZ     169\n",
       "MO     169\n",
       "IA     163\n",
       "AL     152\n",
       "NV     143\n",
       "NY     141\n",
       "TN     140\n",
       "WI     119\n",
       "KS     117\n",
       "GA     106\n",
       "KY     104\n",
       "UT      98\n",
       "CT      91\n",
       "NM      77\n",
       "NE      75\n",
       "SC      70\n",
       "WA      63\n",
       "WV      61\n",
       "OR      57\n",
       "MD      53\n",
       "MS      48\n",
       "NJ      47\n",
       "PR      45\n",
       "ID      45\n",
       "SD      33\n",
       "NH      31\n",
       "DC      28\n",
       "RI      27\n",
       "MT      27\n",
       "DE      26\n",
       "WY      26\n",
       "ME      24\n",
       "ND      18\n",
       "HI      16\n",
       "AK      14\n",
       "VT      11\n",
       "GU       4\n",
       "MP       2\n",
       "VI       1\n",
       "Name: State, dtype: int64"
      ]
     },
     "execution_count": 24,
     "metadata": {},
     "output_type": "execute_result"
    }
   ],
   "source": [
    "hhcaps.State.value_counts()"
   ]
  },
  {
   "cell_type": "code",
   "execution_count": 22,
   "metadata": {
    "nbgrader": {
     "grade": false,
     "grade_id": "q03-solution",
     "locked": false,
     "schema_version": 1,
     "solution": true
    }
   },
   "outputs": [],
   "source": [
    "answer = hhcaps.State.value_counts().index[0]\n",
    "## Solution goes here"
   ]
  },
  {
   "cell_type": "code",
   "execution_count": 25,
   "metadata": {
    "nbgrader": {
     "grade": true,
     "grade_id": "q03-test",
     "locked": true,
     "points": 2,
     "schema_version": 1,
     "solution": false
    }
   },
   "outputs": [],
   "source": [
    "assert(type(answer) == str)\n",
    "assert(answer == 'TX')"
   ]
  },
  {
   "cell_type": "markdown",
   "metadata": {
    "nbgrader": {
     "grade": false,
     "grade_id": "q04-intro",
     "locked": true,
     "schema_version": 1,
     "solution": false
    }
   },
   "source": [
    "## #04 - \n",
    "\n",
    "Which of those State values has the best average performance on the `Star Rating for health team communicated well with them` score?"
   ]
  },
  {
   "cell_type": "code",
   "execution_count": 41,
   "metadata": {},
   "outputs": [],
   "source": [
    "avg_srhtcw = hhcaps.groupby('State')['Star Rating for health team communicated well with them'].mean()\n",
    "answer = avg_srhtcw[avg_srhtcw == avg_srhtcw.max()].index[0]\n",
    "\n",
    "## Solution goes here\n"
   ]
  },
  {
   "cell_type": "code",
   "execution_count": 42,
   "metadata": {
    "nbgrader": {
     "grade": true,
     "grade_id": "q04-test",
     "locked": true,
     "points": 2,
     "schema_version": 1,
     "solution": false
    }
   },
   "outputs": [],
   "source": [
    "assert(type(answer) == str)\n",
    "assert(answer == 'ME')"
   ]
  },
  {
   "cell_type": "markdown",
   "metadata": {
    "nbgrader": {
     "grade": false,
     "grade_id": "q05-intro",
     "locked": true,
     "schema_version": 1,
     "solution": false
    }
   },
   "source": [
    "## #05 - \n",
    "\n",
    "What was the average score on `Star Rating for how patients rated overall care from agency` for providers listed as having a `Type of Ownership` of `Hospital Based Program`"
   ]
  },
  {
   "cell_type": "code",
   "execution_count": 57,
   "metadata": {
    "nbgrader": {
     "grade": false,
     "grade_id": "q05-solution",
     "locked": false,
     "schema_version": 1,
     "solution": true
    }
   },
   "outputs": [],
   "source": [
    "mask = hhcaps['Type of Ownership']=='Hospital Based Program'\n",
    "filtered_hhcaps = hhcaps[mask]\n",
    "answer = filtered_hhcaps['Star Rating for how patients rated overall care from agency'].mean()\n",
    "\n",
    "## Solution goes here\n"
   ]
  },
  {
   "cell_type": "code",
   "execution_count": 58,
   "metadata": {
    "nbgrader": {
     "grade": true,
     "grade_id": "q05-test",
     "locked": true,
     "points": 2,
     "schema_version": 1,
     "solution": false
    }
   },
   "outputs": [],
   "source": [
    "import numpy\n",
    "assert(type(answer) == float or type(answer) == numpy.float64)\n",
    "assert(round(answer,5) == round(3.6925207756232687,5))\n"
   ]
  },
  {
   "cell_type": "markdown",
   "metadata": {
    "nbgrader": {
     "grade": false,
     "grade_id": "q06-intro",
     "locked": true,
     "schema_version": 1,
     "solution": false
    }
   },
   "source": [
    "## #06 - \n",
    "\n",
    "There is one column in the file that has the same value on every row.  What is the name of that column?"
   ]
  },
  {
   "cell_type": "code",
   "execution_count": 69,
   "metadata": {},
   "outputs": [],
   "source": [
    "all_uniques = hhcaps.nunique()\n",
    "answer = all_uniques[all_uniques==1].index[0]\n",
    "\n",
    "## Solution goes here\n"
   ]
  },
  {
   "cell_type": "code",
   "execution_count": 70,
   "metadata": {
    "nbgrader": {
     "grade": true,
     "grade_id": "q06-test",
     "locked": true,
     "points": 2,
     "schema_version": 1,
     "solution": false
    }
   },
   "outputs": [],
   "source": [
    "assert(type(answer) == str)\n",
    "assert(answer.lower() == 'Offers Nursing Care Services'.lower())\n"
   ]
  },
  {
   "cell_type": "markdown",
   "metadata": {
    "nbgrader": {
     "grade": false,
     "grade_id": "q07-intro",
     "locked": true,
     "schema_version": 1,
     "solution": false
    }
   },
   "source": [
    "## #07 - \n",
    "\n",
    "There are six (6) columns in the file that indicate (True or False) if the provider offers certain services.  Those column names all start with `Offers...`.  How many facilities offer **everything** that the survey was interested in asking about?  That is, how many rows have True in all six of those columns?"
   ]
  },
  {
   "cell_type": "code",
   "execution_count": 103,
   "metadata": {},
   "outputs": [],
   "source": [
    "offers_cols = hhcaps.columns[hhcaps.columns.str.startswith('Offers')]\n",
    "\n",
    "number_of_offers = hhcaps[offers_cols].sum(axis=1)\n",
    "\n",
    "answer = int((number_of_offers == len(offers_cols)).sum())\n",
    "\n",
    "## Solution goes here"
   ]
  },
  {
   "cell_type": "code",
   "execution_count": 105,
   "metadata": {
    "nbgrader": {
     "grade": true,
     "grade_id": "q07-test",
     "locked": true,
     "points": 2,
     "schema_version": 1,
     "solution": false
    }
   },
   "outputs": [],
   "source": [
    "assert(type(answer) == int)\n",
    "assert(answer == 9029)\n"
   ]
  },
  {
   "cell_type": "markdown",
   "metadata": {
    "nbgrader": {
     "grade": false,
     "grade_id": "q08-intro",
     "locked": true,
     "schema_version": 1,
     "solution": false
    }
   },
   "source": [
    "## #08 - \n",
    "\n",
    "The survey results report `Number of completed Surveys` as one of the metrics.  What is the `median` of the number of completed surveys per facility?\n",
    "\n",
    "Note that some rows don't have a valid number in them for the number of completed surveys.\n"
   ]
  },
  {
   "cell_type": "code",
   "execution_count": 126,
   "metadata": {},
   "outputs": [],
   "source": [
    "mask = hhcaps['Number of completed Surveys']=='Not Available'\n",
    "\n",
    "hhcaps.loc[mask,'Number of completed Surveys' ] = float('nan')\n",
    "hhcaps['Number of completed Surveys'] = hhcaps['Number of completed Surveys'].astype(float)\n",
    "\n",
    "hhcaps['Number of completed Surveys'].median(skipna=True)\n",
    "\n",
    "answer = hhcaps['Number of completed Surveys'].median(skipna=True)\n",
    "\n",
    "## Solution goes here"
   ]
  },
  {
   "cell_type": "code",
   "execution_count": 127,
   "metadata": {
    "nbgrader": {
     "grade": true,
     "grade_id": "q08-test",
     "locked": true,
     "points": 2,
     "schema_version": 1,
     "solution": false
    }
   },
   "outputs": [],
   "source": [
    "assert(type(answer) == float or type(answer) == numpy.float64)\n",
    "assert(answer == 84)\n"
   ]
  },
  {
   "cell_type": "markdown",
   "metadata": {
    "nbgrader": {
     "grade": false,
     "grade_id": "q09-intro",
     "locked": true,
     "schema_version": 1,
     "solution": false
    }
   },
   "source": [
    "## #09 - \n",
    "\n",
    "How many providers are there from St. Louis, Missouri?\n",
    "\n",
    "*Note that the City columnd may have trailing spaces that need to be accomodated or cleaned up*"
   ]
  },
  {
   "cell_type": "code",
   "execution_count": 154,
   "metadata": {},
   "outputs": [
    {
     "data": {
      "text/plain": [
       "23"
      ]
     },
     "execution_count": 154,
     "metadata": {},
     "output_type": "execute_result"
    }
   ],
   "source": [
    "hhcaps[(hhcaps['City'].str.strip() == 'SAINT LOUIS') & (hhcaps['State']=='MO')]['Provider Name'].nunique()"
   ]
  },
  {
   "cell_type": "code",
   "execution_count": 155,
   "metadata": {
    "nbgrader": {
     "grade": false,
     "grade_id": "q09-solution",
     "locked": false,
     "schema_version": 1,
     "solution": true
    }
   },
   "outputs": [],
   "source": [
    "answer = hhcaps[(hhcaps['City'].str.strip() == 'SAINT LOUIS') & (hhcaps['State']=='MO')]['Provider Name'].nunique()\n",
    "\n",
    "## Solution goes here"
   ]
  },
  {
   "cell_type": "code",
   "execution_count": 156,
   "metadata": {
    "nbgrader": {
     "grade": true,
     "grade_id": "q09-test",
     "locked": true,
     "points": 2,
     "schema_version": 1,
     "solution": false
    }
   },
   "outputs": [],
   "source": [
    "assert(type(answer) == int)\n",
    "assert(answer == 23)\n"
   ]
  },
  {
   "cell_type": "markdown",
   "metadata": {
    "nbgrader": {
     "grade": false,
     "grade_id": "q10-intro",
     "locked": true,
     "schema_version": 1,
     "solution": false
    }
   },
   "source": [
    "# #10 - \n",
    "\n",
    "Which state got the highest percentage of 'top box' scorings, using the `Percent of patients who gave their home health agency a rating of 9 or 10 on a scale from 0 (lowest) to 10 (highest)` field.\n",
    "\n",
    "Ignore those rows where the data is **Not Available**"
   ]
  },
  {
   "cell_type": "code",
   "execution_count": 204,
   "metadata": {},
   "outputs": [],
   "source": [
    "col = 'Percent of patients who gave their home health agency a rating of 9 or 10 on a scale from 0 (lowest) to 10 (highest)'\n",
    "\n",
    "filtered = hhcaps[hhcaps[col]!='Not Available'].reset_index(drop=True)\n",
    "\n",
    "filtered[ col] = filtered[col].astype(float)\n",
    "\n",
    "filtered.groupby('State')[col].mean().sort_values(ascending=False).index[0]\n",
    "\n",
    "answer = filtered.groupby('State')[col].mean().sort_values(ascending=False).index[0]\n",
    "field = 'Percent of patients who gave their home health agency a rating of 9 or 10 on a scale from 0 (lowest) to 10 (highest)'\n",
    "\n",
    "## Solution goes here\n"
   ]
  },
  {
   "cell_type": "code",
   "execution_count": 205,
   "metadata": {
    "nbgrader": {
     "grade": true,
     "grade_id": "q10-test",
     "locked": true,
     "points": 2,
     "schema_version": 1,
     "solution": false
    }
   },
   "outputs": [],
   "source": [
    "assert(type(answer) == str)\n",
    "assert(answer == 'MS')"
   ]
  },
  {
   "cell_type": "code",
   "execution_count": null,
   "metadata": {},
   "outputs": [],
   "source": []
  }
 ],
 "metadata": {
  "celltoolbar": "Create Assignment",
  "kernelspec": {
   "display_name": "Python 3",
   "language": "python",
   "name": "python3"
  },
  "language_info": {
   "codemirror_mode": {
    "name": "ipython",
    "version": 3
   },
   "file_extension": ".py",
   "mimetype": "text/x-python",
   "name": "python",
   "nbconvert_exporter": "python",
   "pygments_lexer": "ipython3",
   "version": "3.6.7"
  }
 },
 "nbformat": 4,
 "nbformat_minor": 2
}
