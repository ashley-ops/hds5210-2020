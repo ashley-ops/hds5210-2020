{
 "cells": [
  {
   "cell_type": "markdown",
   "metadata": {},
   "source": [
    "# HDS5210-2020 Midterm\n",
    "\n",
    "In the midterm, you're going to focus on using the programming skills that you've developed so far to build a calculator for the Apache II scoring system for ICU Mortality.  \n",
    "* https://www.mdcalc.com/apache-ii-score#evidence\n",
    "* https://reference.medscape.com/calculator/apache-ii-scoring-system\n",
    "\n",
    "For the midterm, we'll be building a calculator for the Apache II score and then running that against a patient file that's available to you out on the internet.  This will be broken down into three main steps:\n",
    "1. Create your JSON file to encapsulate all of the calculation rules for Apache II\n",
    "2. Create functions to calculate the Apache II score using your JSON configuration\n",
    "3. Create a function to loop over the patients in a file on the internet and calculate Apach II scores for all of them\n",
    "\n"
   ]
  },
  {
   "cell_type": "markdown",
   "metadata": {},
   "source": [
    "---\n",
    "\n",
    "## Part 1: Creating a JSON Rules File\n",
    "\n",
    "Look at the rules for the Apache II scoring system on the pages above.  The first step in the midterm is to use those rules and create a JSON configuration file as described in the 2019 midterm video.  I've provided a starter file named `apache.json` to get you started.\n",
    "\n",
    "Inside that file, you'll find placeholders for all of the measures that go into the Apache II scoring model:\n",
    "* Organ Failure History\n",
    "* Age\n",
    "* Temperature\n",
    "* [pH](https://en.wikipedia.org/wiki/PH)\n",
    "* Heart rate\n",
    "* Respiratory rate\n",
    "* [Sodium](https://www.mayoclinic.org/diseases-conditions/hyponatremia/symptoms-causes/syc-20373711)\n",
    "* [Potassium](https://www.emedicinehealth.com/hyperkalemia/article_em.htm)\n",
    "* [Creatinine](https://www.medicalnewstoday.com/articles/322380)\n",
    "* [Hematocrit](https://labtestsonline.org/tests/hematocrit)\n",
    "* White Blood Count\n",
    "* [FiO2](https://www.ausmed.com/cpd/articles/oxygen-flow-rate-and-fio2)\n",
    "* [PaO2](https://www.verywellhealth.com/partial-pressure-of-oyxgen-pa02-914920)\n",
    "* [A-a gradient](https://www.ncbi.nlm.nih.gov/books/NBK545153/)\n",
    "\n",
    "\n",
    "You may need to create a sort of nested set of rules in some cases.  For instance, the rule for Creatinine says to use certain ranges and points in the case of Acute Renal Failure and a different set of points for Chronic Renal Failure.\n",
    "\n",
    "Similarly, the rule for FiO2 says to use PaO2 to calculate scores if the FiO2 is <50, and to use A-a Gradient if the PaO2 is >50.\n",
    "\n",
    "When you've created your `apache.json` file, make sure it's in the same directory as this notebook."
   ]
  },
  {
   "cell_type": "markdown",
   "metadata": {},
   "source": [
    "### Testing your JSON\n",
    "\n",
    "The assert() functions below should all run just fine.  If you want to change the names of any of the keys in the JSON I provided you, you may, but you'll also need to update this test code so that it doesn't fail.  Remember, your notebook should be able to run end-to-end before you submit it."
   ]
  },
  {
   "cell_type": "code",
   "execution_count": 4,
   "metadata": {},
   "outputs": [],
   "source": [
    "import json\n",
    "\n",
    "with open('apache.json') as f:\n",
    "    rules = json.load(f)\n",
    "\n",
    "assert('Organ Failure History' in rules.keys())\n",
    "assert('Age' in rules.keys())\n",
    "assert('Temperature' in rules.keys())\n",
    "assert('pH' in rules.keys())\n",
    "assert('Heart Rate' in rules.keys())\n",
    "assert('Respiratory Rate' in rules.keys())\n",
    "assert('Sodium' in rules.keys())\n",
    "assert('Potassium' in rules.keys())\n",
    "assert('Creatinine' in rules.keys())\n",
    "assert('Hematocrit' in rules.keys())\n",
    "assert('White Blood Count' in rules.keys())\n",
    "assert('FiO2' in rules.keys())"
   ]
  },
  {
   "cell_type": "markdown",
   "metadata": {},
   "source": [
    "---\n",
    "\n",
    "## Part 2: Functions to evaluate rules\n",
    "\n",
    "Write a series of functions, enough to satisfy all of the main criteria that we're using to calculate the Apache II score.  That list is the same as the assert statements above.\n",
    "\n",
    "* Each of your functions should be well documented.\n",
    "* Each function should have \"config_file\" as one of it's parameters.\n",
    "* Each function should return a numerical score value.\n",
    "* Similar to what we discussed in the review, if you can generalize some rules, do so.  You should **NOT** end up with one function for each input variable.  If you did that, you'd have a lot of repetative code.\n",
    "\n",
    "The Glasgow Coma Scale is simply a 1-to-1 score translation.  Simply add the Glasgow Coma Scale value.  So, you don't need to write a function for this. [Glasgow Coma Scale](https://www.cdc.gov/masstrauma/resources/gcs.pdf)\n",
    "\n"
   ]
  },
  {
   "cell_type": "code",
   "execution_count": 25,
   "metadata": {},
   "outputs": [],
   "source": [
    "def get_score(value, ranges):\n",
    "    \n",
    "    \"\"\"\n",
    "    Get the score from a given range of values.\n",
    "    \n",
    "    \n",
    "    Args:\n",
    "        value: `int` \n",
    "            value to find the score for\n",
    "        ranges: `list of dict`\n",
    "            List of dictionary with the `min` and` max` and points for each ranges.\n",
    "            e.g., \n",
    "            [\n",
    "            {\"min\":  7.70, \"max\": 99999,  \"points\": 4},\n",
    "            {\"min\":  7.60, \"max\": 7.70,  \"points\": 3}\n",
    "            ]\n",
    "        \n",
    "    Return: `int`\n",
    "        Points for a given value. \n",
    "    \n",
    "    \n",
    "    \"\"\"\n",
    "    \n",
    "    for _range in ranges:\n",
    "        if value >= _range['min'] and value < _range['max']:\n",
    "            return _range['points']\n",
    "    "
   ]
  },
  {
   "cell_type": "markdown",
   "metadata": {},
   "source": [
    "### Testing you Functions\n",
    "\n",
    "Write enough test cases to verify that your functions work for evaulating all of the scoring inputs.  Have at least 3 test cases for each input.\n",
    "\n",
    "These tests can be written the same as the assertions we've use in previous assignments.  For example, if you a function for `temperature_score` then you write a test case like:\n",
    "\n",
    "```\n",
    "assert( temperature_score(37) == 0 )\n",
    "```"
   ]
  },
  {
   "cell_type": "code",
   "execution_count": 30,
   "metadata": {},
   "outputs": [],
   "source": [
    "assert get_score(38, rules['Temperature'])==0\n",
    "assert get_score(24, rules['Respiratory Rate'])==0\n",
    "assert get_score(2, rules['Potassium'])==4"
   ]
  },
  {
   "cell_type": "markdown",
   "metadata": {},
   "source": [
    "---\n",
    "\n",
    "## Part 3: Put it all together\n",
    "\n",
    "Create a new function called `apache_score()` that takes all of the necessary inputs and returns the final Apache II score.  Use any variable names that you want.  For clarity and organization, my recommendation is to create them in the same order as they're documented in the website.\n",
    "\n",
    "1. Organ Failure History\n",
    "2. Age\n",
    "3. Temperature\n",
    "4. pH \n",
    "5. Heart rate\n",
    "6. Respiratory rate\n",
    "7. Sodium\n",
    "8. Potassium\n",
    "9. Creatinine\n",
    "10. Acute renal failure\n",
    "11. Hematocrit\n",
    "12. White Blood Count\n",
    "13. Glasgow Coma Scale\n",
    "14. FiO2\n",
    "15. PaO2\n",
    "16. A-a gradient\n"
   ]
  },
  {
   "cell_type": "code",
   "execution_count": 146,
   "metadata": {},
   "outputs": [],
   "source": [
    "import json\n",
    "def apache_score(organ_failure, age, creatinine, temperature, ph, heart_rate, \n",
    "                  respiratory_rate, sodium, potassium, hematocrit, white_blood_count, \n",
    "                  fio2, glasgow_value, pao2, aa_gradient, acute_renal_failure,  config_file):\n",
    "    \n",
    "    \"\"\"\n",
    "    This funcion will compute the apache score.\n",
    "    \n",
    "    Args:\n",
    "        organ_failure: `str`\n",
    "            Organ failure history. It can be one of the following values\n",
    "            \"Nonoperative\",  \"Emergency\", \"Elective\", \"None\" \n",
    "        age: `int` \n",
    "            Age of the patient\n",
    "        creatinine\n",
    "        temperature\n",
    "        ph\n",
    "        heart_rate\n",
    "        respiratory_rate\n",
    "        , sodium, potassium, hematocrit, white_blood_count, \n",
    "                  fio2, glasgow_value, pao2, aa_gradient,  \n",
    "                  \n",
    "        acute_renal_failure: `str`\n",
    "            There are two possible values.\n",
    "                1. Acute Renal Failure\n",
    "                2. Chronic Renal Failure\n",
    "                  \n",
    "        config_file: `str`\n",
    "            Path for the apache score configuration. DESCRIBE HERE THE FILE.\n",
    "                  \n",
    "    Return: `int`\n",
    "        Apache score.\n",
    "        \n",
    "    \n",
    "    \"\"\"\n",
    "    \n",
    "    range_loop_params = [\n",
    "        'Age',\n",
    "        'Temperature',\n",
    "        'pH',\n",
    "        'Heart Rate',\n",
    "        'Respiratory Rate',\n",
    "        'Sodium',\n",
    "        'Potassium',\n",
    "        'Hematocrit',\n",
    "        'White Blood Count',\n",
    "    ]\n",
    "    \n",
    "    value_dict = {\n",
    "        'Organ Failure History': organ_failure,\n",
    "        'Age':age,\n",
    "        'Temperature': temperature,\n",
    "        'pH': ph,\n",
    "        'Heart Rate': heart_rate,\n",
    "        'Respiratory Rate': respiratory_rate,\n",
    "        'Sodium': sodium,\n",
    "        'Potassium': potassium,\n",
    "        'Hematocrit': hematocrit,\n",
    "        'White Blood Count': white_blood_count,\n",
    "        'Creatinine': creatinine,\n",
    "        'FiO2': fio2,\n",
    "        'A-a gradient' : aa_gradient,\n",
    "        'PaO2': pao2,\n",
    "    }\n",
    "\n",
    "    \n",
    "    score = 15 - glasgow_value\n",
    "    config = json.load(open(config_file))\n",
    "    for param in range_loop_params:\n",
    "        curr_value = value_dict[param]\n",
    "        list_of_ranges = config[param]\n",
    "        print(get_score(curr_value, list_of_ranges), 'for ->', param)\n",
    "        score += get_score(curr_value, list_of_ranges)\n",
    "        \n",
    "    \n",
    "    #Creatinene and FiO2 cases.\n",
    "    \n",
    "    if fio2 <50:\n",
    "        curr_value = value_dict['PaO2']\n",
    "        list_of_ranges = config['FiO2']['PaO2']\n",
    "        print(get_score(curr_value, list_of_ranges), 'for ->', 'Pao2')\n",
    "        score += get_score(curr_value, list_of_ranges)\n",
    "    else:\n",
    "        curr_value = value_dict['A-a gradient']\n",
    "        list_of_ranges = config['FiO2']['A-a gradient']\n",
    "        print(get_score(curr_value, list_of_ranges), 'for ->', 'aa grad')\n",
    "        score += get_score(curr_value, list_of_ranges)\n",
    "        \n",
    "\n",
    "    curr_value = value_dict['Creatinine']\n",
    "    if acute_renal_failure=='Acute Renal Failure':\n",
    "        list_of_ranges = config['Creatinine']['Acute Renal Failure']\n",
    "        print(get_score(curr_value, list_of_ranges), 'for ->', 'acute')\n",
    "        score += get_score(curr_value, list_of_ranges)\n",
    "    elif acute_renal_failure=='Chronic Renal Failure':\n",
    "        list_of_ranges = config['Creatinine']['Chronic Renal Failure']\n",
    "        print(get_score(curr_value, list_of_ranges), 'for ->', 'renal')\n",
    "        score += get_score(curr_value, list_of_ranges)\n",
    "    else:\n",
    "        raise ValueError\n",
    "    \n",
    "    #Score for organ failure\n",
    "    print(config['Organ Failure History'][organ_failure], ' for ->', organ_failure)\n",
    "    score += config['Organ Failure History'][organ_failure]\n",
    "    \n",
    "    return score"
   ]
  },
  {
   "cell_type": "markdown",
   "metadata": {},
   "source": [
    "### Testing your Function\n",
    "\n",
    "Write a few test cases to make sure that your code functions correctly.  In the last step, you'll have LOTS of test cases run through, but you should do some of your before moving on."
   ]
  },
  {
   "cell_type": "code",
   "execution_count": 147,
   "metadata": {},
   "outputs": [
    {
     "name": "stdout",
     "output_type": "stream",
     "text": [
      "0 for -> Age\n",
      "0 for -> Temperature\n",
      "4 for -> pH\n",
      "3 for -> Heart Rate\n",
      "0 for -> Respiratory Rate\n",
      "0 for -> Sodium\n",
      "0 for -> Potassium\n",
      "0 for -> Hematocrit\n",
      "0 for -> White Blood Count\n",
      "2 for -> aa grad\n",
      "0 for -> acute\n",
      "0  for -> None\n"
     ]
    }
   ],
   "source": [
    "assert apache_score(organ_failure='None', age=44, creatinine=0.7, temperature=37, ph=8, heart_rate=44, \n",
    "                  respiratory_rate=13, sodium=131, potassium=4, hematocrit=31, white_blood_count=4, \n",
    "                  fio2=51, glasgow_value=14, pao2=11, aa_gradient=210, acute_renal_failure='Acute Renal Failure',config_file='apache.json')==10"
   ]
  },
  {
   "cell_type": "code",
   "execution_count": 148,
   "metadata": {},
   "outputs": [
    {
     "name": "stdout",
     "output_type": "stream",
     "text": [
      "3 for -> Age\n",
      "2 for -> Temperature\n",
      "3 for -> pH\n",
      "3 for -> Heart Rate\n",
      "0 for -> Respiratory Rate\n",
      "0 for -> Sodium\n",
      "0 for -> Potassium\n",
      "0 for -> Hematocrit\n",
      "0 for -> White Blood Count\n",
      "2 for -> aa grad\n",
      "4 for -> acute\n",
      "5  for -> Nonoperative\n"
     ]
    }
   ],
   "source": [
    "assert apache_score(organ_failure='Nonoperative', age=55, creatinine=1.6, temperature=33, ph=7.17, heart_rate=44, \n",
    "                  respiratory_rate=13, sodium=131, potassium=4, hematocrit=31, white_blood_count=4, \n",
    "                  fio2=51, glasgow_value=14, pao2=11, aa_gradient=210, acute_renal_failure='Acute Renal Failure', config_file='apache.json')==23"
   ]
  },
  {
   "cell_type": "markdown",
   "metadata": {},
   "source": [
    "---\n",
    "\n",
    "## Part 4: Accessing and processing the patient file\n",
    "\n",
    "Fill out the simple function below to retrieve the patient data as a CSV file from any given URL and return a list of all of the Apache II scores based on the data you find for those patients.\n",
    "* The patient file will be a CSV\n",
    "* It will have column headers that match the labels shown above\n",
    "* The columns will not necessarily appear in the order shown above\n",
    "* You should output only the Apache II scores, not any other information\n",
    "* Your output should be a list in the same order as the input rows"
   ]
  },
  {
   "cell_type": "code",
   "execution_count": 139,
   "metadata": {},
   "outputs": [],
   "source": [
    "def read_patient_csv(url, sep=','):\n",
    "    \n",
    "    value_dict = {\n",
    "        'Organ Failure History': 'organ_failure',\n",
    "        'Age':'age',\n",
    "        'Temperature': 'temperature',\n",
    "        'pH': 'ph',\n",
    "        'Heart Rate': 'heart_rate',\n",
    "        'Respiratory Rate': 'respiratory_rate',\n",
    "        'Sodium': 'sodium',\n",
    "        'Potassium': 'potassium',\n",
    "        'Hematocrit': 'hematocrit',\n",
    "        'White Blood Count': 'white_blood_count',\n",
    "        'Creatinine': 'creatinine',\n",
    "        'FiO2': 'fio2',\n",
    "        'A-a Gradient' : 'aa_gradient',\n",
    "        'PaO2': 'pao2',\n",
    "        'Acute Renal Failure': 'acute_renal_failure',\n",
    "    'Glasgow Coma Scale':'glasgow_value'\n",
    "    }\n",
    "    \n",
    "    \n",
    "    df = pd.read_csv(url, sep=sep)\n",
    "    \n",
    "    df = df.rename(columns=value_dict)\n",
    "    \n",
    "    scores = []\n",
    "    for row, patient in df.drop(columns=['Patient']).iterrows():\n",
    "        patient = patient.to_dict()\n",
    "        scores.append(apache_score(**patient, config_file='apache.json'))\n",
    "        print(patient)\n",
    "                                \n",
    "    return scores"
   ]
  },
  {
   "cell_type": "markdown",
   "metadata": {},
   "source": [
    "### Testing your Function\n",
    "\n",
    "The URL for the test data is: https://hds5210-2020.s3.amazonaws.com/TestPatients.csv\n",
    "\n",
    "\n",
    "You can verify your results by comparing them against this data: https://hds5210-2020.s3.amazonaws.com/Scores.csv\n",
    "\n",
    "\n"
   ]
  },
  {
   "cell_type": "code",
   "execution_count": null,
   "metadata": {},
   "outputs": [],
   "source": [
    "import pandas as pd\n",
    "df = read_patient_csv(\"https://hds5210-2020.s3.amazonaws.com/TestPatients.csv\")"
   ]
  },
  {
   "cell_type": "code",
   "execution_count": 130,
   "metadata": {},
   "outputs": [],
   "source": [
    "df_p = pd.read_csv('https://hds5210-2020.s3.amazonaws.com/TestPatients.csv')"
   ]
  },
  {
   "cell_type": "code",
   "execution_count": 141,
   "metadata": {},
   "outputs": [],
   "source": [
    "df_test = pd.read_csv('https://hds5210-2020.s3.amazonaws.com/Scores.csv')"
   ]
  },
  {
   "cell_type": "code",
   "execution_count": 142,
   "metadata": {},
   "outputs": [],
   "source": [
    "df_test['ours'] = df"
   ]
  },
  {
   "cell_type": "code",
   "execution_count": 143,
   "metadata": {},
   "outputs": [
    {
     "data": {
      "text/plain": [
       "1"
      ]
     },
     "execution_count": 143,
     "metadata": {},
     "output_type": "execute_result"
    }
   ],
   "source": [
    "(df_test['TOTAL']==df_test['ours']).sum()"
   ]
  },
  {
   "cell_type": "code",
   "execution_count": 145,
   "metadata": {},
   "outputs": [
    {
     "data": {
      "text/html": [
       "<div>\n",
       "<style scoped>\n",
       "    .dataframe tbody tr th:only-of-type {\n",
       "        vertical-align: middle;\n",
       "    }\n",
       "\n",
       "    .dataframe tbody tr th {\n",
       "        vertical-align: top;\n",
       "    }\n",
       "\n",
       "    .dataframe thead th {\n",
       "        text-align: right;\n",
       "    }\n",
       "</style>\n",
       "<table border=\"1\" class=\"dataframe\">\n",
       "  <thead>\n",
       "    <tr style=\"text-align: right;\">\n",
       "      <th></th>\n",
       "      <th>TOTAL</th>\n",
       "      <th>ours</th>\n",
       "    </tr>\n",
       "  </thead>\n",
       "  <tbody>\n",
       "    <tr>\n",
       "      <th>0</th>\n",
       "      <td>46</td>\n",
       "      <td>35</td>\n",
       "    </tr>\n",
       "    <tr>\n",
       "      <th>1</th>\n",
       "      <td>38</td>\n",
       "      <td>31</td>\n",
       "    </tr>\n",
       "    <tr>\n",
       "      <th>2</th>\n",
       "      <td>46</td>\n",
       "      <td>47</td>\n",
       "    </tr>\n",
       "    <tr>\n",
       "      <th>3</th>\n",
       "      <td>37</td>\n",
       "      <td>34</td>\n",
       "    </tr>\n",
       "    <tr>\n",
       "      <th>4</th>\n",
       "      <td>33</td>\n",
       "      <td>44</td>\n",
       "    </tr>\n",
       "    <tr>\n",
       "      <th>...</th>\n",
       "      <td>...</td>\n",
       "      <td>...</td>\n",
       "    </tr>\n",
       "    <tr>\n",
       "      <th>350</th>\n",
       "      <td>41</td>\n",
       "      <td>46</td>\n",
       "    </tr>\n",
       "    <tr>\n",
       "      <th>351</th>\n",
       "      <td>32</td>\n",
       "      <td>45</td>\n",
       "    </tr>\n",
       "    <tr>\n",
       "      <th>352</th>\n",
       "      <td>36</td>\n",
       "      <td>43</td>\n",
       "    </tr>\n",
       "    <tr>\n",
       "      <th>353</th>\n",
       "      <td>57</td>\n",
       "      <td>44</td>\n",
       "    </tr>\n",
       "    <tr>\n",
       "      <th>354</th>\n",
       "      <td>32</td>\n",
       "      <td>45</td>\n",
       "    </tr>\n",
       "  </tbody>\n",
       "</table>\n",
       "<p>355 rows × 2 columns</p>\n",
       "</div>"
      ],
      "text/plain": [
       "     TOTAL  ours\n",
       "0       46    35\n",
       "1       38    31\n",
       "2       46    47\n",
       "3       37    34\n",
       "4       33    44\n",
       "..     ...   ...\n",
       "350     41    46\n",
       "351     32    45\n",
       "352     36    43\n",
       "353     57    44\n",
       "354     32    45\n",
       "\n",
       "[355 rows x 2 columns]"
      ]
     },
     "execution_count": 145,
     "metadata": {},
     "output_type": "execute_result"
    }
   ],
   "source": [
    "df_test"
   ]
  },
  {
   "cell_type": "code",
   "execution_count": null,
   "metadata": {},
   "outputs": [],
   "source": []
  }
 ],
 "metadata": {
  "kernelspec": {
   "display_name": "Python 3",
   "language": "python",
   "name": "python3"
  },
  "language_info": {
   "codemirror_mode": {
    "name": "ipython",
    "version": 3
   },
   "file_extension": ".py",
   "mimetype": "text/x-python",
   "name": "python",
   "nbconvert_exporter": "python",
   "pygments_lexer": "ipython3",
   "version": "3.6.7"
  }
 },
 "nbformat": 4,
 "nbformat_minor": 4
}
